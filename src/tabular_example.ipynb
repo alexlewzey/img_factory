{
 "cells": [
  {
   "cell_type": "code",
   "execution_count": 18,
   "id": "e3908080-b70a-4159-b083-2e413e461066",
   "metadata": {},
   "outputs": [],
   "source": [
    "from fastai.collab import *\n",
    "from fastai.tabular.all import *"
   ]
  },
  {
   "cell_type": "markdown",
   "id": "ea0c6011-ae64-4ae9-8962-5b538cf1a9ed",
   "metadata": {},
   "source": [
    "# Collaborative filtering"
   ]
  },
  {
   "cell_type": "code",
   "execution_count": 19,
   "id": "53cd4b16-d320-4711-bf55-da2626d688a4",
   "metadata": {},
   "outputs": [],
   "source": [
    "path = untar_data(URLs.ML_100k)"
   ]
  },
  {
   "cell_type": "code",
   "execution_count": 20,
   "id": "4d456812-9eb5-4258-992c-f3e387fdb075",
   "metadata": {},
   "outputs": [],
   "source": [
    "Path.BASE_PATH = path"
   ]
  },
  {
   "cell_type": "code",
   "execution_count": 21,
   "id": "08326494-bed2-427b-9896-7a7332b74f0c",
   "metadata": {},
   "outputs": [
    {
     "data": {
      "text/plain": [
       "(#23) [Path('u.info'),Path('u4.test'),Path('ua.base'),Path('allbut.pl'),Path('u5.base'),Path('README'),Path('u1.test'),Path('u5.test'),Path('ub.base'),Path('u3.test')...]"
      ]
     },
     "execution_count": 21,
     "metadata": {},
     "output_type": "execute_result"
    }
   ],
   "source": [
    "path.ls()"
   ]
  },
  {
   "cell_type": "code",
   "execution_count": 22,
   "id": "b71e1536-9c5d-4f3c-a748-20471edc1015",
   "metadata": {},
   "outputs": [],
   "source": [
    "ratings = pd.read_csv(path / 'u.data', delimiter='\\t', header=None, names=['user', 'movie', 'rating', 'timestamp'])"
   ]
  },
  {
   "cell_type": "code",
   "execution_count": 23,
   "id": "9455aed5-5910-4132-86e2-76aa268be936",
   "metadata": {},
   "outputs": [],
   "source": [
    "movies = pd.read_csv(path/'u.item', delimiter='|', encoding='latin-1', usecols=(0, 1), names=('movie', 'title'), header=None)"
   ]
  },
  {
   "cell_type": "code",
   "execution_count": 28,
   "id": "4841940c-0ada-4e22-ad43-e36e61e1b9aa",
   "metadata": {},
   "outputs": [
    {
     "data": {
      "text/html": [
       "<div>\n",
       "<style scoped>\n",
       "    .dataframe tbody tr th:only-of-type {\n",
       "        vertical-align: middle;\n",
       "    }\n",
       "\n",
       "    .dataframe tbody tr th {\n",
       "        vertical-align: top;\n",
       "    }\n",
       "\n",
       "    .dataframe thead th {\n",
       "        text-align: right;\n",
       "    }\n",
       "</style>\n",
       "<table border=\"1\" class=\"dataframe\">\n",
       "  <thead>\n",
       "    <tr style=\"text-align: right;\">\n",
       "      <th></th>\n",
       "      <th>movie</th>\n",
       "      <th>title</th>\n",
       "    </tr>\n",
       "  </thead>\n",
       "  <tbody>\n",
       "    <tr>\n",
       "      <th>0</th>\n",
       "      <td>1</td>\n",
       "      <td>Toy Story (1995)</td>\n",
       "    </tr>\n",
       "    <tr>\n",
       "      <th>1</th>\n",
       "      <td>2</td>\n",
       "      <td>GoldenEye (1995)</td>\n",
       "    </tr>\n",
       "    <tr>\n",
       "      <th>2</th>\n",
       "      <td>3</td>\n",
       "      <td>Four Rooms (1995)</td>\n",
       "    </tr>\n",
       "    <tr>\n",
       "      <th>3</th>\n",
       "      <td>4</td>\n",
       "      <td>Get Shorty (1995)</td>\n",
       "    </tr>\n",
       "    <tr>\n",
       "      <th>4</th>\n",
       "      <td>5</td>\n",
       "      <td>Copycat (1995)</td>\n",
       "    </tr>\n",
       "  </tbody>\n",
       "</table>\n",
       "</div>"
      ],
      "text/plain": [
       "   movie              title\n",
       "0      1   Toy Story (1995)\n",
       "1      2   GoldenEye (1995)\n",
       "2      3  Four Rooms (1995)\n",
       "3      4  Get Shorty (1995)\n",
       "4      5     Copycat (1995)"
      ]
     },
     "execution_count": 28,
     "metadata": {},
     "output_type": "execute_result"
    }
   ],
   "source": [
    "movies.head(5)"
   ]
  },
  {
   "cell_type": "code",
   "execution_count": 30,
   "id": "5c58fac8-6193-45b2-82e0-c890df48d89f",
   "metadata": {},
   "outputs": [],
   "source": [
    "ratings = ratings.merge(movies, on='movie')"
   ]
  },
  {
   "cell_type": "code",
   "execution_count": 31,
   "id": "6d0abe19-efb7-4a3a-9289-6deb1f30fede",
   "metadata": {},
   "outputs": [
    {
     "data": {
      "text/html": [
       "<div>\n",
       "<style scoped>\n",
       "    .dataframe tbody tr th:only-of-type {\n",
       "        vertical-align: middle;\n",
       "    }\n",
       "\n",
       "    .dataframe tbody tr th {\n",
       "        vertical-align: top;\n",
       "    }\n",
       "\n",
       "    .dataframe thead th {\n",
       "        text-align: right;\n",
       "    }\n",
       "</style>\n",
       "<table border=\"1\" class=\"dataframe\">\n",
       "  <thead>\n",
       "    <tr style=\"text-align: right;\">\n",
       "      <th>movie</th>\n",
       "      <th>1</th>\n",
       "      <th>2</th>\n",
       "      <th>3</th>\n",
       "      <th>4</th>\n",
       "      <th>5</th>\n",
       "      <th>6</th>\n",
       "      <th>7</th>\n",
       "      <th>8</th>\n",
       "      <th>9</th>\n",
       "      <th>10</th>\n",
       "      <th>...</th>\n",
       "      <th>1673</th>\n",
       "      <th>1674</th>\n",
       "      <th>1675</th>\n",
       "      <th>1676</th>\n",
       "      <th>1677</th>\n",
       "      <th>1678</th>\n",
       "      <th>1679</th>\n",
       "      <th>1680</th>\n",
       "      <th>1681</th>\n",
       "      <th>1682</th>\n",
       "    </tr>\n",
       "    <tr>\n",
       "      <th>user</th>\n",
       "      <th></th>\n",
       "      <th></th>\n",
       "      <th></th>\n",
       "      <th></th>\n",
       "      <th></th>\n",
       "      <th></th>\n",
       "      <th></th>\n",
       "      <th></th>\n",
       "      <th></th>\n",
       "      <th></th>\n",
       "      <th></th>\n",
       "      <th></th>\n",
       "      <th></th>\n",
       "      <th></th>\n",
       "      <th></th>\n",
       "      <th></th>\n",
       "      <th></th>\n",
       "      <th></th>\n",
       "      <th></th>\n",
       "      <th></th>\n",
       "      <th></th>\n",
       "    </tr>\n",
       "  </thead>\n",
       "  <tbody>\n",
       "    <tr>\n",
       "      <th>1</th>\n",
       "      <td>1.0</td>\n",
       "      <td>1.0</td>\n",
       "      <td>1.0</td>\n",
       "      <td>1.0</td>\n",
       "      <td>1.0</td>\n",
       "      <td>1.0</td>\n",
       "      <td>1.0</td>\n",
       "      <td>1.0</td>\n",
       "      <td>1.0</td>\n",
       "      <td>1.0</td>\n",
       "      <td>...</td>\n",
       "      <td>NaN</td>\n",
       "      <td>NaN</td>\n",
       "      <td>NaN</td>\n",
       "      <td>NaN</td>\n",
       "      <td>NaN</td>\n",
       "      <td>NaN</td>\n",
       "      <td>NaN</td>\n",
       "      <td>NaN</td>\n",
       "      <td>NaN</td>\n",
       "      <td>NaN</td>\n",
       "    </tr>\n",
       "    <tr>\n",
       "      <th>2</th>\n",
       "      <td>1.0</td>\n",
       "      <td>NaN</td>\n",
       "      <td>NaN</td>\n",
       "      <td>NaN</td>\n",
       "      <td>NaN</td>\n",
       "      <td>NaN</td>\n",
       "      <td>NaN</td>\n",
       "      <td>NaN</td>\n",
       "      <td>NaN</td>\n",
       "      <td>1.0</td>\n",
       "      <td>...</td>\n",
       "      <td>NaN</td>\n",
       "      <td>NaN</td>\n",
       "      <td>NaN</td>\n",
       "      <td>NaN</td>\n",
       "      <td>NaN</td>\n",
       "      <td>NaN</td>\n",
       "      <td>NaN</td>\n",
       "      <td>NaN</td>\n",
       "      <td>NaN</td>\n",
       "      <td>NaN</td>\n",
       "    </tr>\n",
       "    <tr>\n",
       "      <th>3</th>\n",
       "      <td>NaN</td>\n",
       "      <td>NaN</td>\n",
       "      <td>NaN</td>\n",
       "      <td>NaN</td>\n",
       "      <td>NaN</td>\n",
       "      <td>NaN</td>\n",
       "      <td>NaN</td>\n",
       "      <td>NaN</td>\n",
       "      <td>NaN</td>\n",
       "      <td>NaN</td>\n",
       "      <td>...</td>\n",
       "      <td>NaN</td>\n",
       "      <td>NaN</td>\n",
       "      <td>NaN</td>\n",
       "      <td>NaN</td>\n",
       "      <td>NaN</td>\n",
       "      <td>NaN</td>\n",
       "      <td>NaN</td>\n",
       "      <td>NaN</td>\n",
       "      <td>NaN</td>\n",
       "      <td>NaN</td>\n",
       "    </tr>\n",
       "    <tr>\n",
       "      <th>4</th>\n",
       "      <td>NaN</td>\n",
       "      <td>NaN</td>\n",
       "      <td>NaN</td>\n",
       "      <td>NaN</td>\n",
       "      <td>NaN</td>\n",
       "      <td>NaN</td>\n",
       "      <td>NaN</td>\n",
       "      <td>NaN</td>\n",
       "      <td>NaN</td>\n",
       "      <td>NaN</td>\n",
       "      <td>...</td>\n",
       "      <td>NaN</td>\n",
       "      <td>NaN</td>\n",
       "      <td>NaN</td>\n",
       "      <td>NaN</td>\n",
       "      <td>NaN</td>\n",
       "      <td>NaN</td>\n",
       "      <td>NaN</td>\n",
       "      <td>NaN</td>\n",
       "      <td>NaN</td>\n",
       "      <td>NaN</td>\n",
       "    </tr>\n",
       "    <tr>\n",
       "      <th>5</th>\n",
       "      <td>1.0</td>\n",
       "      <td>1.0</td>\n",
       "      <td>NaN</td>\n",
       "      <td>NaN</td>\n",
       "      <td>NaN</td>\n",
       "      <td>NaN</td>\n",
       "      <td>NaN</td>\n",
       "      <td>NaN</td>\n",
       "      <td>NaN</td>\n",
       "      <td>NaN</td>\n",
       "      <td>...</td>\n",
       "      <td>NaN</td>\n",
       "      <td>NaN</td>\n",
       "      <td>NaN</td>\n",
       "      <td>NaN</td>\n",
       "      <td>NaN</td>\n",
       "      <td>NaN</td>\n",
       "      <td>NaN</td>\n",
       "      <td>NaN</td>\n",
       "      <td>NaN</td>\n",
       "      <td>NaN</td>\n",
       "    </tr>\n",
       "    <tr>\n",
       "      <th>...</th>\n",
       "      <td>...</td>\n",
       "      <td>...</td>\n",
       "      <td>...</td>\n",
       "      <td>...</td>\n",
       "      <td>...</td>\n",
       "      <td>...</td>\n",
       "      <td>...</td>\n",
       "      <td>...</td>\n",
       "      <td>...</td>\n",
       "      <td>...</td>\n",
       "      <td>...</td>\n",
       "      <td>...</td>\n",
       "      <td>...</td>\n",
       "      <td>...</td>\n",
       "      <td>...</td>\n",
       "      <td>...</td>\n",
       "      <td>...</td>\n",
       "      <td>...</td>\n",
       "      <td>...</td>\n",
       "      <td>...</td>\n",
       "      <td>...</td>\n",
       "    </tr>\n",
       "    <tr>\n",
       "      <th>939</th>\n",
       "      <td>NaN</td>\n",
       "      <td>NaN</td>\n",
       "      <td>NaN</td>\n",
       "      <td>NaN</td>\n",
       "      <td>NaN</td>\n",
       "      <td>NaN</td>\n",
       "      <td>NaN</td>\n",
       "      <td>NaN</td>\n",
       "      <td>1.0</td>\n",
       "      <td>NaN</td>\n",
       "      <td>...</td>\n",
       "      <td>NaN</td>\n",
       "      <td>NaN</td>\n",
       "      <td>NaN</td>\n",
       "      <td>NaN</td>\n",
       "      <td>NaN</td>\n",
       "      <td>NaN</td>\n",
       "      <td>NaN</td>\n",
       "      <td>NaN</td>\n",
       "      <td>NaN</td>\n",
       "      <td>NaN</td>\n",
       "    </tr>\n",
       "    <tr>\n",
       "      <th>940</th>\n",
       "      <td>NaN</td>\n",
       "      <td>NaN</td>\n",
       "      <td>NaN</td>\n",
       "      <td>1.0</td>\n",
       "      <td>NaN</td>\n",
       "      <td>NaN</td>\n",
       "      <td>1.0</td>\n",
       "      <td>1.0</td>\n",
       "      <td>1.0</td>\n",
       "      <td>NaN</td>\n",
       "      <td>...</td>\n",
       "      <td>NaN</td>\n",
       "      <td>NaN</td>\n",
       "      <td>NaN</td>\n",
       "      <td>NaN</td>\n",
       "      <td>NaN</td>\n",
       "      <td>NaN</td>\n",
       "      <td>NaN</td>\n",
       "      <td>NaN</td>\n",
       "      <td>NaN</td>\n",
       "      <td>NaN</td>\n",
       "    </tr>\n",
       "    <tr>\n",
       "      <th>941</th>\n",
       "      <td>1.0</td>\n",
       "      <td>NaN</td>\n",
       "      <td>NaN</td>\n",
       "      <td>NaN</td>\n",
       "      <td>NaN</td>\n",
       "      <td>NaN</td>\n",
       "      <td>1.0</td>\n",
       "      <td>NaN</td>\n",
       "      <td>NaN</td>\n",
       "      <td>NaN</td>\n",
       "      <td>...</td>\n",
       "      <td>NaN</td>\n",
       "      <td>NaN</td>\n",
       "      <td>NaN</td>\n",
       "      <td>NaN</td>\n",
       "      <td>NaN</td>\n",
       "      <td>NaN</td>\n",
       "      <td>NaN</td>\n",
       "      <td>NaN</td>\n",
       "      <td>NaN</td>\n",
       "      <td>NaN</td>\n",
       "    </tr>\n",
       "    <tr>\n",
       "      <th>942</th>\n",
       "      <td>NaN</td>\n",
       "      <td>NaN</td>\n",
       "      <td>NaN</td>\n",
       "      <td>NaN</td>\n",
       "      <td>NaN</td>\n",
       "      <td>NaN</td>\n",
       "      <td>NaN</td>\n",
       "      <td>NaN</td>\n",
       "      <td>NaN</td>\n",
       "      <td>NaN</td>\n",
       "      <td>...</td>\n",
       "      <td>NaN</td>\n",
       "      <td>NaN</td>\n",
       "      <td>NaN</td>\n",
       "      <td>NaN</td>\n",
       "      <td>NaN</td>\n",
       "      <td>NaN</td>\n",
       "      <td>NaN</td>\n",
       "      <td>NaN</td>\n",
       "      <td>NaN</td>\n",
       "      <td>NaN</td>\n",
       "    </tr>\n",
       "    <tr>\n",
       "      <th>943</th>\n",
       "      <td>NaN</td>\n",
       "      <td>1.0</td>\n",
       "      <td>NaN</td>\n",
       "      <td>NaN</td>\n",
       "      <td>NaN</td>\n",
       "      <td>NaN</td>\n",
       "      <td>NaN</td>\n",
       "      <td>NaN</td>\n",
       "      <td>1.0</td>\n",
       "      <td>NaN</td>\n",
       "      <td>...</td>\n",
       "      <td>NaN</td>\n",
       "      <td>NaN</td>\n",
       "      <td>NaN</td>\n",
       "      <td>NaN</td>\n",
       "      <td>NaN</td>\n",
       "      <td>NaN</td>\n",
       "      <td>NaN</td>\n",
       "      <td>NaN</td>\n",
       "      <td>NaN</td>\n",
       "      <td>NaN</td>\n",
       "    </tr>\n",
       "  </tbody>\n",
       "</table>\n",
       "<p>943 rows × 1682 columns</p>\n",
       "</div>"
      ],
      "text/plain": [
       "movie  1     2     3     4     5     6     7     8     9     10    ...  1673  \\\n",
       "user                                                               ...         \n",
       "1       1.0   1.0   1.0   1.0   1.0   1.0   1.0   1.0   1.0   1.0  ...   NaN   \n",
       "2       1.0   NaN   NaN   NaN   NaN   NaN   NaN   NaN   NaN   1.0  ...   NaN   \n",
       "3       NaN   NaN   NaN   NaN   NaN   NaN   NaN   NaN   NaN   NaN  ...   NaN   \n",
       "4       NaN   NaN   NaN   NaN   NaN   NaN   NaN   NaN   NaN   NaN  ...   NaN   \n",
       "5       1.0   1.0   NaN   NaN   NaN   NaN   NaN   NaN   NaN   NaN  ...   NaN   \n",
       "...     ...   ...   ...   ...   ...   ...   ...   ...   ...   ...  ...   ...   \n",
       "939     NaN   NaN   NaN   NaN   NaN   NaN   NaN   NaN   1.0   NaN  ...   NaN   \n",
       "940     NaN   NaN   NaN   1.0   NaN   NaN   1.0   1.0   1.0   NaN  ...   NaN   \n",
       "941     1.0   NaN   NaN   NaN   NaN   NaN   1.0   NaN   NaN   NaN  ...   NaN   \n",
       "942     NaN   NaN   NaN   NaN   NaN   NaN   NaN   NaN   NaN   NaN  ...   NaN   \n",
       "943     NaN   1.0   NaN   NaN   NaN   NaN   NaN   NaN   1.0   NaN  ...   NaN   \n",
       "\n",
       "movie  1674  1675  1676  1677  1678  1679  1680  1681  1682  \n",
       "user                                                         \n",
       "1       NaN   NaN   NaN   NaN   NaN   NaN   NaN   NaN   NaN  \n",
       "2       NaN   NaN   NaN   NaN   NaN   NaN   NaN   NaN   NaN  \n",
       "3       NaN   NaN   NaN   NaN   NaN   NaN   NaN   NaN   NaN  \n",
       "4       NaN   NaN   NaN   NaN   NaN   NaN   NaN   NaN   NaN  \n",
       "5       NaN   NaN   NaN   NaN   NaN   NaN   NaN   NaN   NaN  \n",
       "...     ...   ...   ...   ...   ...   ...   ...   ...   ...  \n",
       "939     NaN   NaN   NaN   NaN   NaN   NaN   NaN   NaN   NaN  \n",
       "940     NaN   NaN   NaN   NaN   NaN   NaN   NaN   NaN   NaN  \n",
       "941     NaN   NaN   NaN   NaN   NaN   NaN   NaN   NaN   NaN  \n",
       "942     NaN   NaN   NaN   NaN   NaN   NaN   NaN   NaN   NaN  \n",
       "943     NaN   NaN   NaN   NaN   NaN   NaN   NaN   NaN   NaN  \n",
       "\n",
       "[943 rows x 1682 columns]"
      ]
     },
     "execution_count": 31,
     "metadata": {},
     "output_type": "execute_result"
    }
   ],
   "source": [
    "ratings.groupby(['user', 'movie']).size().unstack()"
   ]
  },
  {
   "cell_type": "code",
   "execution_count": 32,
   "id": "9adc7f77-424b-41fb-8356-f4320119db9e",
   "metadata": {},
   "outputs": [],
   "source": [
    "movie_1 = np.array([0.98, 0.9, -0.9])\n",
    "user_1 = np.array([0.9, 0.8, -0.6])"
   ]
  },
  {
   "cell_type": "code",
   "execution_count": 33,
   "id": "55c58a8d-44f8-46ff-a5ab-ac34390d09b3",
   "metadata": {},
   "outputs": [
    {
     "data": {
      "text/plain": [
       "2.1420000000000003"
      ]
     },
     "execution_count": 33,
     "metadata": {},
     "output_type": "execute_result"
    }
   ],
   "source": [
    "(user_1 * movie_1).sum()"
   ]
  },
  {
   "cell_type": "code",
   "execution_count": 78,
   "id": "487b4d2c-796d-4d48-b81e-264a22aa9664",
   "metadata": {},
   "outputs": [],
   "source": [
    "dls = CollabDataLoaders.from_df(ratings, item_name='title', bs=64)"
   ]
  },
  {
   "cell_type": "code",
   "execution_count": 79,
   "id": "d50d9f45-fa32-4273-a187-19bf5546e776",
   "metadata": {},
   "outputs": [
    {
     "data": {
      "text/html": [
       "<table border=\"1\" class=\"dataframe\">\n",
       "  <thead>\n",
       "    <tr style=\"text-align: right;\">\n",
       "      <th></th>\n",
       "      <th>user</th>\n",
       "      <th>title</th>\n",
       "      <th>rating</th>\n",
       "    </tr>\n",
       "  </thead>\n",
       "  <tbody>\n",
       "    <tr>\n",
       "      <th>0</th>\n",
       "      <td>270</td>\n",
       "      <td>Romy and Michele's High School Reunion (1997)</td>\n",
       "      <td>4</td>\n",
       "    </tr>\n",
       "    <tr>\n",
       "      <th>1</th>\n",
       "      <td>478</td>\n",
       "      <td>Fish Called Wanda, A (1988)</td>\n",
       "      <td>3</td>\n",
       "    </tr>\n",
       "    <tr>\n",
       "      <th>2</th>\n",
       "      <td>798</td>\n",
       "      <td>Jungle2Jungle (1997)</td>\n",
       "      <td>4</td>\n",
       "    </tr>\n",
       "    <tr>\n",
       "      <th>3</th>\n",
       "      <td>389</td>\n",
       "      <td>Quiz Show (1994)</td>\n",
       "      <td>4</td>\n",
       "    </tr>\n",
       "    <tr>\n",
       "      <th>4</th>\n",
       "      <td>889</td>\n",
       "      <td>Right Stuff, The (1983)</td>\n",
       "      <td>4</td>\n",
       "    </tr>\n",
       "    <tr>\n",
       "      <th>5</th>\n",
       "      <td>473</td>\n",
       "      <td>Celluloid Closet, The (1995)</td>\n",
       "      <td>3</td>\n",
       "    </tr>\n",
       "    <tr>\n",
       "      <th>6</th>\n",
       "      <td>301</td>\n",
       "      <td>Happy Gilmore (1996)</td>\n",
       "      <td>4</td>\n",
       "    </tr>\n",
       "    <tr>\n",
       "      <th>7</th>\n",
       "      <td>253</td>\n",
       "      <td>Hamlet (1996)</td>\n",
       "      <td>4</td>\n",
       "    </tr>\n",
       "    <tr>\n",
       "      <th>8</th>\n",
       "      <td>712</td>\n",
       "      <td>Shaggy Dog, The (1959)</td>\n",
       "      <td>3</td>\n",
       "    </tr>\n",
       "    <tr>\n",
       "      <th>9</th>\n",
       "      <td>731</td>\n",
       "      <td>Henry V (1989)</td>\n",
       "      <td>5</td>\n",
       "    </tr>\n",
       "  </tbody>\n",
       "</table>"
      ],
      "text/plain": [
       "<IPython.core.display.HTML object>"
      ]
     },
     "metadata": {},
     "output_type": "display_data"
    }
   ],
   "source": [
    "dls.show_batch()"
   ]
  },
  {
   "cell_type": "code",
   "execution_count": 81,
   "id": "59cef6a7-0f8c-4637-8b57-0a785a5beb4f",
   "metadata": {},
   "outputs": [
    {
     "data": {
      "text/html": [],
      "text/plain": [
       "<IPython.core.display.HTML object>"
      ]
     },
     "metadata": {},
     "output_type": "display_data"
    },
    {
     "data": {
      "text/plain": [
       "SuggestedLRs(lr_min=6.309573450380412e-08, lr_steep=1.5848931980144698e-06)"
      ]
     },
     "execution_count": 81,
     "metadata": {},
     "output_type": "execute_result"
    },
    {
     "data": {
      "image/png": "[encoded data removed]",
      "text/plain": [
       "<Figure size 432x288 with 1 Axes>"
      ]
     },
     "metadata": {
      "needs_background": "light"
     },
     "output_type": "display_data"
    }
   ],
   "source": [
    "learn.lr_find()"
   ]
  },
  {
   "cell_type": "code",
   "execution_count": 80,
   "id": "3708a847-86ec-453e-ad4f-594de4618c31",
   "metadata": {},
   "outputs": [
    {
     "data": {
      "text/html": [
       "<table border=\"1\" class=\"dataframe\">\n",
       "  <thead>\n",
       "    <tr style=\"text-align: left;\">\n",
       "      <th>epoch</th>\n",
       "      <th>train_loss</th>\n",
       "      <th>valid_loss</th>\n",
       "      <th>time</th>\n",
       "    </tr>\n",
       "  </thead>\n",
       "  <tbody>\n",
       "    <tr>\n",
       "      <td>0</td>\n",
       "      <td>0.931118</td>\n",
       "      <td>0.953378</td>\n",
       "      <td>00:06</td>\n",
       "    </tr>\n",
       "    <tr>\n",
       "      <td>1</td>\n",
       "      <td>0.868774</td>\n",
       "      <td>0.878353</td>\n",
       "      <td>00:06</td>\n",
       "    </tr>\n",
       "    <tr>\n",
       "      <td>2</td>\n",
       "      <td>0.707238</td>\n",
       "      <td>0.838144</td>\n",
       "      <td>00:06</td>\n",
       "    </tr>\n",
       "    <tr>\n",
       "      <td>3</td>\n",
       "      <td>0.589517</td>\n",
       "      <td>0.822283</td>\n",
       "      <td>00:06</td>\n",
       "    </tr>\n",
       "    <tr>\n",
       "      <td>4</td>\n",
       "      <td>0.482217</td>\n",
       "      <td>0.822286</td>\n",
       "      <td>00:06</td>\n",
       "    </tr>\n",
       "  </tbody>\n",
       "</table>"
      ],
      "text/plain": [
       "<IPython.core.display.HTML object>"
      ]
     },
     "metadata": {},
     "output_type": "display_data"
    }
   ],
   "source": [
    "learn = collab_learner(dls, n_factors=50, y_range=(0, 5.5))\n",
    "learn.fit_one_cycle(5, 5e-3, wd=0.1)"
   ]
  },
  {
   "cell_type": "code",
   "execution_count": 82,
   "id": "3709b334-56cb-4a50-b028-59445273918f",
   "metadata": {},
   "outputs": [
    {
     "data": {
      "text/plain": [
       "EmbeddingDotBias(\n",
       "  (u_weight): Embedding(944, 50)\n",
       "  (i_weight): Embedding(1665, 50)\n",
       "  (u_bias): Embedding(944, 1)\n",
       "  (i_bias): Embedding(1665, 1)\n",
       ")"
      ]
     },
     "execution_count": 82,
     "metadata": {},
     "output_type": "execute_result"
    }
   ],
   "source": [
    "learn.model"
   ]
  },
  {
   "cell_type": "code",
   "execution_count": 89,
   "id": "82b3382b-5778-4b83-a569-3cff90c7debb",
   "metadata": {},
   "outputs": [],
   "source": [
    "movie_bias = learn.model.i_bias.weight.squeeze()\n",
    "movie_weight = learn.model.i_weight.weight"
   ]
  },
  {
   "cell_type": "code",
   "execution_count": 92,
   "id": "927c66ff-9b9d-416a-88b5-f1dbdb1bcbee",
   "metadata": {},
   "outputs": [
    {
     "data": {
      "text/plain": [
       "torch.Size([1665])"
      ]
     },
     "execution_count": 92,
     "metadata": {},
     "output_type": "execute_result"
    }
   ],
   "source": [
    "movie_bias.shape"
   ]
  },
  {
   "cell_type": "code",
   "execution_count": 93,
   "id": "52e63a2f-f404-4b83-89f6-9fdb5da13f7f",
   "metadata": {},
   "outputs": [
    {
     "data": {
      "text/plain": [
       "torch.Size([1665, 50])"
      ]
     },
     "execution_count": 93,
     "metadata": {},
     "output_type": "execute_result"
    }
   ],
   "source": [
    "movie_weight.shape"
   ]
  },
  {
   "cell_type": "code",
   "execution_count": 101,
   "id": "6bf37be5-28d0-4743-bf2a-66d2bdbab31f",
   "metadata": {},
   "outputs": [],
   "source": [
    "idxs = movie_bias.argsort(descending=True)"
   ]
  },
  {
   "cell_type": "code",
   "execution_count": 103,
   "id": "e077b05d-cb95-4a80-b696-352fb01a5001",
   "metadata": {},
   "outputs": [
    {
     "data": {
      "text/plain": [
       "['Shawshank Redemption, The (1994)',\n",
       " 'Titanic (1997)',\n",
       " 'Rear Window (1954)',\n",
       " \"Schindler's List (1993)\",\n",
       " 'As Good As It Gets (1997)',\n",
       " 'Good Will Hunting (1997)',\n",
       " 'Silence of the Lambs, The (1991)',\n",
       " 'L.A. Confidential (1997)',\n",
       " 'Usual Suspects, The (1995)',\n",
       " 'Casablanca (1942)']"
      ]
     },
     "execution_count": 103,
     "metadata": {},
     "output_type": "execute_result"
    }
   ],
   "source": [
    "[dls.classes['title'][i] for i in idxs[:10]]"
   ]
  },
  {
   "cell_type": "code",
   "execution_count": 105,
   "id": "b763931b-f2c1-4591-b841-bf22c03bf2f2",
   "metadata": {},
   "outputs": [
    {
     "data": {
      "text/plain": [
       "['Striptease (1996)',\n",
       " 'NeverEnding Story III, The (1994)',\n",
       " 'Crow: City of Angels, The (1996)',\n",
       " 'Robocop 3 (1993)',\n",
       " 'Solo (1996)',\n",
       " 'Mortal Kombat: Annihilation (1997)',\n",
       " 'Lawnmower Man 2: Beyond Cyberspace (1996)',\n",
       " 'Home Alone 3 (1997)',\n",
       " 'Island of Dr. Moreau, The (1996)',\n",
       " 'Children of the Corn: The Gathering (1996)']"
      ]
     },
     "execution_count": 105,
     "metadata": {},
     "output_type": "execute_result"
    }
   ],
   "source": [
    "[dls.classes['title'][i] for i in idxs[-10:]]"
   ]
  },
  {
   "cell_type": "code",
   "execution_count": 134,
   "id": "19d14676-9ff7-4093-948e-76a7f920d316",
   "metadata": {},
   "outputs": [],
   "source": [
    "idx = dls.classes['title'].o2i['Silence of the Lambs, The (1991)']"
   ]
  },
  {
   "cell_type": "code",
   "execution_count": 135,
   "id": "863c47ad-2382-4257-8478-266d1a83d41b",
   "metadata": {},
   "outputs": [
    {
     "data": {
      "text/plain": [
       "tensor([[ 0.6049,  1.5119,  2.2149, -1.3977,  1.6088]])"
      ]
     },
     "execution_count": 135,
     "metadata": {},
     "output_type": "execute_result"
    }
   ],
   "source": [
    "movie_factors[idx][None]"
   ]
  },
  {
   "cell_type": "code",
   "execution_count": 136,
   "id": "450751a8-f51b-4f00-a191-bf12163677f3",
   "metadata": {},
   "outputs": [],
   "source": [
    "distances = nn.CosineSimilarity(dim=1)(movie_factors, movie_factors[idx][None])"
   ]
  },
  {
   "cell_type": "code",
   "execution_count": 137,
   "id": "fbd640da-6daf-4f12-972e-584caa800a27",
   "metadata": {},
   "outputs": [],
   "source": [
    "most_similar = distances.argsort(descending=True)"
   ]
  },
  {
   "cell_type": "code",
   "execution_count": 138,
   "id": "fe1aa7d9-b7af-40c8-8db9-4e322fcfd3f5",
   "metadata": {},
   "outputs": [
    {
     "data": {
      "text/plain": [
       "['Silence of the Lambs, The (1991)',\n",
       " 'Beauty and the Beast (1991)',\n",
       " 'So I Married an Axe Murderer (1993)',\n",
       " 'Falling in Love Again (1980)',\n",
       " 'Blade Runner (1982)']"
      ]
     },
     "execution_count": 138,
     "metadata": {},
     "output_type": "execute_result"
    }
   ],
   "source": [
    "[dls.classes['title'][i] for i in most_similar[:5]]"
   ]
  },
  {
   "cell_type": "markdown",
   "id": "cd11674e-049b-4ffd-aac4-f94285e747ee",
   "metadata": {},
   "source": [
    "# Forecasting"
   ]
  },
  {
   "cell_type": "code",
   "execution_count": 170,
   "id": "3dee0470-4bda-4db3-a231-957622e85532",
   "metadata": {},
   "outputs": [],
   "source": [
    "creds = '{\"username\":\"alexlewzey\",\"key\":\"88ab6ee89ecb1ad967638268a1c49709\"}'"
   ]
  },
  {
   "cell_type": "code",
   "execution_count": 171,
   "id": "801130f8-f3ca-44a2-b108-9c4074b6d1f5",
   "metadata": {},
   "outputs": [],
   "source": [
    "from fastai.collab import *\n",
    "from fastai.tabular.all import *\n",
    "from kaggle import api"
   ]
  },
  {
   "cell_type": "code",
   "execution_count": 172,
   "id": "2338bb03-afb3-4ab5-8b3f-ef6574ac0ff2",
   "metadata": {},
   "outputs": [],
   "source": [
    "cred_path = Path('~/.kaggle/kaggle.json').expanduser()\n",
    "if not cred_path.exists():\n",
    "    cred_path.parent.mkdir(exist_ok=True)\n",
    "    cred_path.mk_write(creds)\n",
    "    cred_path.chmod(0o600)"
   ]
  },
  {
   "cell_type": "code",
   "execution_count": 173,
   "id": "df4f703d-c0e0-4474-a67a-3a0d2467de9b",
   "metadata": {},
   "outputs": [
    {
     "data": {
      "text/plain": [
       "Path('.')"
      ]
     },
     "execution_count": 173,
     "metadata": {},
     "output_type": "execute_result"
    }
   ],
   "source": [
    "path = URLs.path('bluebook')\n",
    "path"
   ]
  },
  {
   "cell_type": "code",
   "execution_count": 174,
   "id": "7fbfc3b5-cf52-4213-bab0-014d9fbfe648",
   "metadata": {},
   "outputs": [],
   "source": [
    "Path.BASE_PATH = path"
   ]
  },
  {
   "cell_type": "code",
   "execution_count": 179,
   "id": "1107d84f-dd2b-4b4a-8f39-c4be44837d8b",
   "metadata": {},
   "outputs": [
    {
     "data": {
      "text/plain": [
       "(#7) [Path('TrainAndValid.csv'),Path('random_forest_benchmark_test.csv'),Path('median_benchmark.csv'),Path('Valid.csv'),Path('Test.csv'),Path('Machine_Appendix.csv'),Path('ValidSolution.csv')]"
      ]
     },
     "execution_count": 179,
     "metadata": {},
     "output_type": "execute_result"
    }
   ],
   "source": [
    "if not path.exists():\n",
    "    path.mkdir()\n",
    "    api.competition_download_cli('bluebook-for-bulldozers', path=path)\n",
    "    file_extract(path/'bluebook-for-bulldozers.zip')\n",
    "path.ls(file_type='text')"
   ]
  },
  {
   "cell_type": "code",
   "execution_count": 187,
   "id": "73962f5b-bfd7-4c54-97f6-c76aeb740d71",
   "metadata": {},
   "outputs": [
    {
     "data": {
      "text/plain": [
       "((412698, 53),\n",
       "    SalesID  SalePrice  MachineID  ModelID  datasource  auctioneerID  YearMade  \\\n",
       " 0  1139246    66000.0     999089     3157         121           3.0      2004   \n",
       " 1  1139248    57000.0     117657       77         121           3.0      1996   \n",
       " 2  1139249    10000.0     434808     7009         121           3.0      2001   \n",
       " 3  1139251    38500.0    1026470      332         121           3.0      2001   \n",
       " 4  1139253    11000.0    1057373    17311         121           3.0      2007   \n",
       " \n",
       "    MachineHoursCurrentMeter UsageBand         saledate  ...  \\\n",
       " 0                      68.0       Low  11/16/2006 0:00  ...   \n",
       " 1                    4640.0       Low   3/26/2004 0:00  ...   \n",
       " 2                    2838.0      High   2/26/2004 0:00  ...   \n",
       " 3                    3486.0      High   5/19/2011 0:00  ...   \n",
       " 4                     722.0    Medium   7/23/2009 0:00  ...   \n",
       " \n",
       "   Undercarriage_Pad_Width Stick_Length Thumb Pattern_Changer Grouser_Type  \\\n",
       " 0                     NaN          NaN   NaN             NaN          NaN   \n",
       " 1                     NaN          NaN   NaN             NaN          NaN   \n",
       " 2                     NaN          NaN   NaN             NaN          NaN   \n",
       " 3                     NaN          NaN   NaN             NaN          NaN   \n",
       " 4                     NaN          NaN   NaN             NaN          NaN   \n",
       " \n",
       "   Backhoe_Mounting Blade_Type Travel_Controls Differential_Type  \\\n",
       " 0              NaN        NaN             NaN          Standard   \n",
       " 1              NaN        NaN             NaN          Standard   \n",
       " 2              NaN        NaN             NaN               NaN   \n",
       " 3              NaN        NaN             NaN               NaN   \n",
       " 4              NaN        NaN             NaN               NaN   \n",
       " \n",
       "   Steering_Controls  \n",
       " 0      Conventional  \n",
       " 1      Conventional  \n",
       " 2               NaN  \n",
       " 3               NaN  \n",
       " 4               NaN  \n",
       " \n",
       " [5 rows x 53 columns])"
      ]
     },
     "execution_count": 187,
     "metadata": {},
     "output_type": "execute_result"
    }
   ],
   "source": [
    "df = pd.read_csv(path / 'TrainAndValid.csv', low_memory=False)\n",
    "df.shape, df.head()"
   ]
  },
  {
   "cell_type": "code",
   "execution_count": 188,
   "id": "78e1de91-7474-4c6a-839f-5e1eca39eacf",
   "metadata": {},
   "outputs": [],
   "source": [
    "dep_var = 'log_sales_price'"
   ]
  },
  {
   "cell_type": "code",
   "execution_count": 190,
   "id": "f7caf463-cfd3-410d-9770-ca24c41d6897",
   "metadata": {},
   "outputs": [],
   "source": [
    "df[dep_var] = np.log(df['SalePrice'])"
   ]
  },
  {
   "cell_type": "code",
   "execution_count": 192,
   "id": "d2afed28-0285-4114-b3b7-d3249810b94a",
   "metadata": {},
   "outputs": [
    {
     "data": {
      "text/plain": [
       "<AxesSubplot:>"
      ]
     },
     "execution_count": 192,
     "metadata": {},
     "output_type": "execute_result"
    },
    {
     "data": {
      "image/png": "[encoded data removed]",
      "text/plain": [
       "<Figure size 432x288 with 1 Axes>"
      ]
     },
     "metadata": {
      "needs_background": "light"
     },
     "output_type": "display_data"
    }
   ],
   "source": [
    "df['SalePrice'].hist()"
   ]
  },
  {
   "cell_type": "code",
   "execution_count": null,
   "id": "5965d40c-6f13-4fd0-84af-1c95e2032ae2",
   "metadata": {},
   "outputs": [],
   "source": []
  }
 ],
 "metadata": {
  "environment": {
   "name": "common-cu110.m68",
   "type": "gcloud",
   "uri": "gcr.io/deeplearning-platform-release/base-cu110:m68"
  },
  "kernelspec": {
   "display_name": "Python [conda env:fastai]",
   "language": "python",
   "name": "conda-env-fastai-py"
  },
  "language_info": {
   "codemirror_mode": {
    "name": "ipython",
    "version": 3
   },
   "file_extension": ".py",
   "mimetype": "text/x-python",
   "name": "python",
   "nbconvert_exporter": "python",
   "pygments_lexer": "ipython3",
   "version": "3.9.2"
  }
 },
 "nbformat": 4,
 "nbformat_minor": 5
}
