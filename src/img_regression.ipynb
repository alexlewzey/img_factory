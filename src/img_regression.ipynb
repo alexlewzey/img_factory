{
 "cells": [
  {
   "cell_type": "markdown",
   "id": "abff154b-e493-4463-9e60-d7a83b0e280b",
   "metadata": {},
   "source": [
    "Predict the value on a single part chart image using fastai"
   ]
  },
  {
   "cell_type": "code",
   "execution_count": 1,
   "id": "446d2e5f-890f-4633-bf49-306fc7f0516d",
   "metadata": {},
   "outputs": [],
   "source": [
    "from typing import *\n",
    "from concurrent.futures.process import ProcessPoolExecutor\n",
    "import logging\n",
    "import collections\n",
    "from datetime import datetime, timedelta\n",
    "from pathlib import Path\n",
    "from importlib import reload\n",
    "import itertools\n",
    "import functools\n",
    "import subprocess\n",
    "import io\n",
    "import os\n",
    "import gc\n",
    "import re\n",
    "import sys\n",
    "import time\n",
    "import logging\n",
    "import pickle\n",
    "import json\n",
    "import random\n",
    "import string\n",
    "import numpy as np\n",
    "import scipy\n",
    "from scipy import stats\n",
    "from tqdm.auto import tqdm\n",
    "import pandas as pd\n",
    "from sklearn import model_selection, metrics, preprocessing, ensemble, neighbors, cluster, decomposition, inspection, \\\n",
    "    linear_model\n",
    "import matplotlib.pyplot as plt\n",
    "from functools import partial\n",
    "import torch\n",
    "import torch.nn as nn\n",
    "from core import *\n",
    "\n",
    "from fastai.vision.all import *\n",
    "from slibtk import slibtk\n",
    "\n",
    "logging.basicConfig(**log_config)\n",
    "logger = logging.getLogger(__name__)\n",
    "\n",
    "pd.set_option('display.max_rows', 500)\n",
    "pd.set_option('display.max_columns', 500)\n",
    "pd.set_option('display.width', 1000)\n",
    "pd.set_option('display.float_format', '{:.5f}'.format)"
   ]
  },
  {
   "cell_type": "code",
   "execution_count": 2,
   "id": "91385362-2c18-4203-8f72-1501d24653e1",
   "metadata": {},
   "outputs": [],
   "source": [
    "tqdm.pandas()"
   ]
  },
  {
   "cell_type": "code",
   "execution_count": 3,
   "id": "9f10813b-451d-4d49-807c-31f014c016a8",
   "metadata": {},
   "outputs": [],
   "source": [
    "def test_img() -> Path:\n",
    "    value = random.random()\n",
    "    fig, ax = plt.subplots()\n",
    "    ax.bar(['value'], value)\n",
    "    ax.set_ylim([0, 1])\n",
    "    img_path = Paths.RAW / f'{value}.png'\n",
    "    plt.savefig(img_path.as_posix())\n",
    "#     logger.info(f'saving: {img_path}')\n",
    "    return img_path\n",
    "\n",
    "\n",
    "def save_img(ser: pd.Series) -> Path:\n",
    "    fig, ax = plt.subplots()\n",
    "    ax.bar(['value'], ser['value'])\n",
    "    ax.set_ylim([0, 1])\n",
    "    img_path = Paths.RAW / f'{int(ser[\"index\"])}_{ser[\"value\"]}.png'\n",
    "    plt.savefig(img_path.as_posix())\n",
    "#     logger.info(f'saving: {img_path}')\n",
    "    plt.close()\n",
    "    return img_path\n",
    "\n",
    "\n",
    "@slibtk.with_cache(Paths.CACHES)\n",
    "def make_charts(n: int = 5000) -> pd.DataFrame:\n",
    "    df = pd.Series(np.random.rand(n)).to_frame('value').reset_index()\n",
    "    df['img_path'] = df.progress_apply(save_img, axis=1)\n",
    "    return df\n",
    "\n",
    "\n",
    "def rm_charts() -> None:\n",
    "    for p in Paths.RAW.glob('*.png'): p.unlink()\n",
    "\n",
    "\n",
    "def parse_label(fname: str):\n",
    "    return float(re.search('\\d+_(0\\.\\d+)\\.png', fname).group(1))"
   ]
  },
  {
   "cell_type": "code",
   "execution_count": 4,
   "id": "938187ba-8903-4f33-87d3-900102f8d462",
   "metadata": {
    "tags": []
   },
   "outputs": [
    {
     "name": "stderr",
     "output_type": "stream",
     "text": [
      "08-05-2021 18:34:19 INFO     [slibtk.py:605] reading pickle: /home/jupyter/img_factory/data/caches/make_charts.pickle\n",
      "08-05-2021 18:34:19 INFO     [slibtk.py:66] read_pickle: output=      index   value                                                         img_path\n",
      "0         0 0.61976       /home/jupyter/img_factory/data/raw/0_0.619755410238265.png\n",
      "1         1 0.44196     /home/jupyter/img_factory/data/raw/1_0.44195992078457746.png\n",
      "2         2 0.30394      \n",
      "08-05-2021 18:34:19 INFO     [slibtk.py:231] loaded return from cache: make_charts\n"
     ]
    }
   ],
   "source": [
    "df = make_charts()"
   ]
  },
  {
   "cell_type": "code",
   "execution_count": 6,
   "id": "7e9f6f09-dff7-4e85-b65f-c5839c0a007d",
   "metadata": {},
   "outputs": [
    {
     "data": {
      "text/html": [
       "<div>\n",
       "<style scoped>\n",
       "    .dataframe tbody tr th:only-of-type {\n",
       "        vertical-align: middle;\n",
       "    }\n",
       "\n",
       "    .dataframe tbody tr th {\n",
       "        vertical-align: top;\n",
       "    }\n",
       "\n",
       "    .dataframe thead th {\n",
       "        text-align: right;\n",
       "    }\n",
       "</style>\n",
       "<table border=\"1\" class=\"dataframe\">\n",
       "  <thead>\n",
       "    <tr style=\"text-align: right;\">\n",
       "      <th></th>\n",
       "      <th>index</th>\n",
       "      <th>value</th>\n",
       "      <th>img_path</th>\n",
       "    </tr>\n",
       "  </thead>\n",
       "  <tbody>\n",
       "    <tr>\n",
       "      <th>0</th>\n",
       "      <td>0</td>\n",
       "      <td>0.61976</td>\n",
       "      <td>/home/jupyter/img_factory/data/raw/0_0.619755410238265.png</td>\n",
       "    </tr>\n",
       "    <tr>\n",
       "      <th>1</th>\n",
       "      <td>1</td>\n",
       "      <td>0.44196</td>\n",
       "      <td>/home/jupyter/img_factory/data/raw/1_0.44195992078457746.png</td>\n",
       "    </tr>\n",
       "    <tr>\n",
       "      <th>2</th>\n",
       "      <td>2</td>\n",
       "      <td>0.30394</td>\n",
       "      <td>/home/jupyter/img_factory/data/raw/2_0.3039361081601598.png</td>\n",
       "    </tr>\n",
       "    <tr>\n",
       "      <th>3</th>\n",
       "      <td>3</td>\n",
       "      <td>0.91162</td>\n",
       "      <td>/home/jupyter/img_factory/data/raw/3_0.9116163511450728.png</td>\n",
       "    </tr>\n",
       "    <tr>\n",
       "      <th>4</th>\n",
       "      <td>4</td>\n",
       "      <td>0.61212</td>\n",
       "      <td>/home/jupyter/img_factory/data/raw/4_0.6121159359611676.png</td>\n",
       "    </tr>\n",
       "    <tr>\n",
       "      <th>5</th>\n",
       "      <td>5</td>\n",
       "      <td>0.69984</td>\n",
       "      <td>/home/jupyter/img_factory/data/raw/5_0.6998392812485402.png</td>\n",
       "    </tr>\n",
       "    <tr>\n",
       "      <th>6</th>\n",
       "      <td>6</td>\n",
       "      <td>0.72179</td>\n",
       "      <td>/home/jupyter/img_factory/data/raw/6_0.7217916156210856.png</td>\n",
       "    </tr>\n",
       "    <tr>\n",
       "      <th>7</th>\n",
       "      <td>7</td>\n",
       "      <td>0.10288</td>\n",
       "      <td>/home/jupyter/img_factory/data/raw/7_0.10287934916529862.png</td>\n",
       "    </tr>\n",
       "    <tr>\n",
       "      <th>8</th>\n",
       "      <td>8</td>\n",
       "      <td>0.65188</td>\n",
       "      <td>/home/jupyter/img_factory/data/raw/8_0.651881008539692.png</td>\n",
       "    </tr>\n",
       "    <tr>\n",
       "      <th>9</th>\n",
       "      <td>9</td>\n",
       "      <td>0.79251</td>\n",
       "      <td>/home/jupyter/img_factory/data/raw/9_0.79251020035231.png</td>\n",
       "    </tr>\n",
       "  </tbody>\n",
       "</table>\n",
       "</div>"
      ],
      "text/plain": [
       "   index   value                                                      img_path\n",
       "0      0 0.61976    /home/jupyter/img_factory/data/raw/0_0.619755410238265.png\n",
       "1      1 0.44196  /home/jupyter/img_factory/data/raw/1_0.44195992078457746.png\n",
       "2      2 0.30394   /home/jupyter/img_factory/data/raw/2_0.3039361081601598.png\n",
       "3      3 0.91162   /home/jupyter/img_factory/data/raw/3_0.9116163511450728.png\n",
       "4      4 0.61212   /home/jupyter/img_factory/data/raw/4_0.6121159359611676.png\n",
       "5      5 0.69984   /home/jupyter/img_factory/data/raw/5_0.6998392812485402.png\n",
       "6      6 0.72179   /home/jupyter/img_factory/data/raw/6_0.7217916156210856.png\n",
       "7      7 0.10288  /home/jupyter/img_factory/data/raw/7_0.10287934916529862.png\n",
       "8      8 0.65188    /home/jupyter/img_factory/data/raw/8_0.651881008539692.png\n",
       "9      9 0.79251     /home/jupyter/img_factory/data/raw/9_0.79251020035231.png"
      ]
     },
     "execution_count": 6,
     "metadata": {},
     "output_type": "execute_result"
    }
   ],
   "source": [
    "df.head(10)"
   ]
  },
  {
   "cell_type": "code",
   "execution_count": 7,
   "id": "34486d13-80b5-4719-9581-e2a06bb6e22e",
   "metadata": {},
   "outputs": [],
   "source": [
    "path = next(Paths.RAW.iterdir())\n",
    "im = Image.open(path)\n",
    "im.to_thumb(128, 128)\n",
    "plt.show()\n",
    "\n",
    "fns = get_image_files(Paths.RAW)"
   ]
  },
  {
   "cell_type": "code",
   "execution_count": 8,
   "id": "e885f30e-08d6-4ad3-9d96-728880a7c340",
   "metadata": {},
   "outputs": [],
   "source": [
    "dls = DataBlock(\n",
    "    blocks=(ImageBlock, RegressionBlock),\n",
    "    get_x=ColReader('img_path'),\n",
    "    get_y=ColReader('value'),\n",
    "    splitter=RandomSplitter(),\n",
    "    item_tfms=Resize(128, ResizeMethod.Squish)\n",
    ").dataloaders(df)\n",
    "\n",
    "learn = cnn_learner(dls, resnet34, metrics=[rmse, mae])"
   ]
  },
  {
   "cell_type": "code",
   "execution_count": 9,
   "id": "9990c646-6535-4f04-868e-bbe94547ee1b",
   "metadata": {},
   "outputs": [
    {
     "data": {
      "image/png": "[encoded data removed]",
      "text/plain": [
       "<Figure size 648x648 with 9 Axes>"
      ]
     },
     "metadata": {
      "needs_background": "light"
     },
     "output_type": "display_data"
    }
   ],
   "source": [
    "dls.show_batch()"
   ]
  },
  {
   "cell_type": "code",
   "execution_count": 10,
   "id": "70090743-49fc-4504-9a0a-b36372eddda0",
   "metadata": {},
   "outputs": [
    {
     "data": {
      "text/html": [],
      "text/plain": [
       "<IPython.core.display.HTML object>"
      ]
     },
     "metadata": {},
     "output_type": "display_data"
    },
    {
     "data": {
      "image/png": "[encoded data removed]",
      "text/plain": [
       "<Figure size 432x288 with 1 Axes>"
      ]
     },
     "metadata": {
      "needs_background": "light"
     },
     "output_type": "display_data"
    }
   ],
   "source": [
    "lr_min, lr_steep = learn.lr_find()"
   ]
  },
  {
   "cell_type": "code",
   "execution_count": 12,
   "id": "365e7c64-4b65-4c59-8fd9-b25ad92c7aaf",
   "metadata": {},
   "outputs": [
    {
     "data": {
      "text/html": [
       "<table border=\"1\" class=\"dataframe\">\n",
       "  <thead>\n",
       "    <tr style=\"text-align: left;\">\n",
       "      <th>epoch</th>\n",
       "      <th>train_loss</th>\n",
       "      <th>valid_loss</th>\n",
       "      <th>_rmse</th>\n",
       "      <th>mae</th>\n",
       "      <th>time</th>\n",
       "    </tr>\n",
       "  </thead>\n",
       "  <tbody>\n",
       "    <tr>\n",
       "      <td>0</td>\n",
       "      <td>2.780421</td>\n",
       "      <td>0.957675</td>\n",
       "      <td>0.978609</td>\n",
       "      <td>0.723532</td>\n",
       "      <td>00:08</td>\n",
       "    </tr>\n",
       "  </tbody>\n",
       "</table>"
      ],
      "text/plain": [
       "<IPython.core.display.HTML object>"
      ]
     },
     "metadata": {},
     "output_type": "display_data"
    },
    {
     "data": {
      "text/html": [
       "<table border=\"1\" class=\"dataframe\">\n",
       "  <thead>\n",
       "    <tr style=\"text-align: left;\">\n",
       "      <th>epoch</th>\n",
       "      <th>train_loss</th>\n",
       "      <th>valid_loss</th>\n",
       "      <th>_rmse</th>\n",
       "      <th>mae</th>\n",
       "      <th>time</th>\n",
       "    </tr>\n",
       "  </thead>\n",
       "  <tbody>\n",
       "    <tr>\n",
       "      <td>0</td>\n",
       "      <td>1.386309</td>\n",
       "      <td>0.377936</td>\n",
       "      <td>0.614765</td>\n",
       "      <td>0.468824</td>\n",
       "      <td>00:10</td>\n",
       "    </tr>\n",
       "    <tr>\n",
       "      <td>1</td>\n",
       "      <td>1.188716</td>\n",
       "      <td>0.147838</td>\n",
       "      <td>0.384498</td>\n",
       "      <td>0.267954</td>\n",
       "      <td>00:09</td>\n",
       "    </tr>\n",
       "    <tr>\n",
       "      <td>2</td>\n",
       "      <td>0.975710</td>\n",
       "      <td>0.114261</td>\n",
       "      <td>0.338025</td>\n",
       "      <td>0.242049</td>\n",
       "      <td>00:09</td>\n",
       "    </tr>\n",
       "    <tr>\n",
       "      <td>3</td>\n",
       "      <td>0.836963</td>\n",
       "      <td>0.094892</td>\n",
       "      <td>0.308045</td>\n",
       "      <td>0.226364</td>\n",
       "      <td>00:10</td>\n",
       "    </tr>\n",
       "    <tr>\n",
       "      <td>4</td>\n",
       "      <td>0.692335</td>\n",
       "      <td>0.043587</td>\n",
       "      <td>0.208776</td>\n",
       "      <td>0.139884</td>\n",
       "      <td>00:10</td>\n",
       "    </tr>\n",
       "    <tr>\n",
       "      <td>5</td>\n",
       "      <td>0.558400</td>\n",
       "      <td>0.036577</td>\n",
       "      <td>0.191251</td>\n",
       "      <td>0.141051</td>\n",
       "      <td>00:10</td>\n",
       "    </tr>\n",
       "    <tr>\n",
       "      <td>6</td>\n",
       "      <td>0.420361</td>\n",
       "      <td>0.016083</td>\n",
       "      <td>0.126819</td>\n",
       "      <td>0.101306</td>\n",
       "      <td>00:10</td>\n",
       "    </tr>\n",
       "    <tr>\n",
       "      <td>7</td>\n",
       "      <td>0.302324</td>\n",
       "      <td>0.045993</td>\n",
       "      <td>0.214460</td>\n",
       "      <td>0.165605</td>\n",
       "      <td>00:10</td>\n",
       "    </tr>\n",
       "    <tr>\n",
       "      <td>8</td>\n",
       "      <td>0.219730</td>\n",
       "      <td>0.012817</td>\n",
       "      <td>0.113213</td>\n",
       "      <td>0.077881</td>\n",
       "      <td>00:10</td>\n",
       "    </tr>\n",
       "    <tr>\n",
       "      <td>9</td>\n",
       "      <td>0.144636</td>\n",
       "      <td>0.015471</td>\n",
       "      <td>0.124381</td>\n",
       "      <td>0.108935</td>\n",
       "      <td>00:10</td>\n",
       "    </tr>\n",
       "    <tr>\n",
       "      <td>10</td>\n",
       "      <td>0.094363</td>\n",
       "      <td>0.006830</td>\n",
       "      <td>0.082642</td>\n",
       "      <td>0.067041</td>\n",
       "      <td>00:10</td>\n",
       "    </tr>\n",
       "    <tr>\n",
       "      <td>11</td>\n",
       "      <td>0.062314</td>\n",
       "      <td>0.012650</td>\n",
       "      <td>0.112474</td>\n",
       "      <td>0.075184</td>\n",
       "      <td>00:10</td>\n",
       "    </tr>\n",
       "    <tr>\n",
       "      <td>12</td>\n",
       "      <td>0.046769</td>\n",
       "      <td>0.006974</td>\n",
       "      <td>0.083508</td>\n",
       "      <td>0.059393</td>\n",
       "      <td>00:10</td>\n",
       "    </tr>\n",
       "    <tr>\n",
       "      <td>13</td>\n",
       "      <td>0.032473</td>\n",
       "      <td>0.003107</td>\n",
       "      <td>0.055744</td>\n",
       "      <td>0.045903</td>\n",
       "      <td>00:10</td>\n",
       "    </tr>\n",
       "    <tr>\n",
       "      <td>14</td>\n",
       "      <td>0.026146</td>\n",
       "      <td>0.002986</td>\n",
       "      <td>0.054648</td>\n",
       "      <td>0.047541</td>\n",
       "      <td>00:10</td>\n",
       "    </tr>\n",
       "    <tr>\n",
       "      <td>15</td>\n",
       "      <td>0.022860</td>\n",
       "      <td>0.002227</td>\n",
       "      <td>0.047186</td>\n",
       "      <td>0.036961</td>\n",
       "      <td>00:10</td>\n",
       "    </tr>\n",
       "    <tr>\n",
       "      <td>16</td>\n",
       "      <td>0.020310</td>\n",
       "      <td>0.001602</td>\n",
       "      <td>0.040023</td>\n",
       "      <td>0.032532</td>\n",
       "      <td>00:10</td>\n",
       "    </tr>\n",
       "    <tr>\n",
       "      <td>17</td>\n",
       "      <td>0.017151</td>\n",
       "      <td>0.001121</td>\n",
       "      <td>0.033486</td>\n",
       "      <td>0.026485</td>\n",
       "      <td>00:10</td>\n",
       "    </tr>\n",
       "    <tr>\n",
       "      <td>18</td>\n",
       "      <td>0.015959</td>\n",
       "      <td>0.007655</td>\n",
       "      <td>0.087492</td>\n",
       "      <td>0.051992</td>\n",
       "      <td>00:10</td>\n",
       "    </tr>\n",
       "    <tr>\n",
       "      <td>19</td>\n",
       "      <td>0.014331</td>\n",
       "      <td>0.005467</td>\n",
       "      <td>0.073939</td>\n",
       "      <td>0.059110</td>\n",
       "      <td>00:10</td>\n",
       "    </tr>\n",
       "    <tr>\n",
       "      <td>20</td>\n",
       "      <td>0.014352</td>\n",
       "      <td>0.002389</td>\n",
       "      <td>0.048879</td>\n",
       "      <td>0.039236</td>\n",
       "      <td>00:10</td>\n",
       "    </tr>\n",
       "    <tr>\n",
       "      <td>21</td>\n",
       "      <td>0.013284</td>\n",
       "      <td>0.001747</td>\n",
       "      <td>0.041801</td>\n",
       "      <td>0.036059</td>\n",
       "      <td>00:10</td>\n",
       "    </tr>\n",
       "    <tr>\n",
       "      <td>22</td>\n",
       "      <td>0.013876</td>\n",
       "      <td>0.005106</td>\n",
       "      <td>0.071453</td>\n",
       "      <td>0.055645</td>\n",
       "      <td>00:10</td>\n",
       "    </tr>\n",
       "    <tr>\n",
       "      <td>23</td>\n",
       "      <td>0.013459</td>\n",
       "      <td>0.002849</td>\n",
       "      <td>0.053379</td>\n",
       "      <td>0.047189</td>\n",
       "      <td>00:10</td>\n",
       "    </tr>\n",
       "    <tr>\n",
       "      <td>24</td>\n",
       "      <td>0.010747</td>\n",
       "      <td>0.001078</td>\n",
       "      <td>0.032830</td>\n",
       "      <td>0.026074</td>\n",
       "      <td>00:10</td>\n",
       "    </tr>\n",
       "    <tr>\n",
       "      <td>25</td>\n",
       "      <td>0.010747</td>\n",
       "      <td>0.001345</td>\n",
       "      <td>0.036672</td>\n",
       "      <td>0.028403</td>\n",
       "      <td>00:10</td>\n",
       "    </tr>\n",
       "    <tr>\n",
       "      <td>26</td>\n",
       "      <td>0.010845</td>\n",
       "      <td>0.003901</td>\n",
       "      <td>0.062454</td>\n",
       "      <td>0.049163</td>\n",
       "      <td>00:10</td>\n",
       "    </tr>\n",
       "    <tr>\n",
       "      <td>27</td>\n",
       "      <td>0.010636</td>\n",
       "      <td>0.003432</td>\n",
       "      <td>0.058587</td>\n",
       "      <td>0.042935</td>\n",
       "      <td>00:10</td>\n",
       "    </tr>\n",
       "    <tr>\n",
       "      <td>28</td>\n",
       "      <td>0.010021</td>\n",
       "      <td>0.001590</td>\n",
       "      <td>0.039876</td>\n",
       "      <td>0.030485</td>\n",
       "      <td>00:10</td>\n",
       "    </tr>\n",
       "    <tr>\n",
       "      <td>29</td>\n",
       "      <td>0.010238</td>\n",
       "      <td>0.003753</td>\n",
       "      <td>0.061259</td>\n",
       "      <td>0.035642</td>\n",
       "      <td>00:10</td>\n",
       "    </tr>\n",
       "    <tr>\n",
       "      <td>30</td>\n",
       "      <td>0.009493</td>\n",
       "      <td>0.000927</td>\n",
       "      <td>0.030453</td>\n",
       "      <td>0.026717</td>\n",
       "      <td>00:10</td>\n",
       "    </tr>\n",
       "    <tr>\n",
       "      <td>31</td>\n",
       "      <td>0.008683</td>\n",
       "      <td>0.004403</td>\n",
       "      <td>0.066354</td>\n",
       "      <td>0.049425</td>\n",
       "      <td>00:10</td>\n",
       "    </tr>\n",
       "    <tr>\n",
       "      <td>32</td>\n",
       "      <td>0.009057</td>\n",
       "      <td>0.001833</td>\n",
       "      <td>0.042813</td>\n",
       "      <td>0.034913</td>\n",
       "      <td>00:10</td>\n",
       "    </tr>\n",
       "    <tr>\n",
       "      <td>33</td>\n",
       "      <td>0.008718</td>\n",
       "      <td>0.000531</td>\n",
       "      <td>0.023051</td>\n",
       "      <td>0.020745</td>\n",
       "      <td>00:10</td>\n",
       "    </tr>\n",
       "    <tr>\n",
       "      <td>34</td>\n",
       "      <td>0.007809</td>\n",
       "      <td>0.000644</td>\n",
       "      <td>0.025378</td>\n",
       "      <td>0.022651</td>\n",
       "      <td>00:10</td>\n",
       "    </tr>\n",
       "    <tr>\n",
       "      <td>35</td>\n",
       "      <td>0.007414</td>\n",
       "      <td>0.000422</td>\n",
       "      <td>0.020532</td>\n",
       "      <td>0.015332</td>\n",
       "      <td>00:10</td>\n",
       "    </tr>\n",
       "    <tr>\n",
       "      <td>36</td>\n",
       "      <td>0.007028</td>\n",
       "      <td>0.001215</td>\n",
       "      <td>0.034861</td>\n",
       "      <td>0.026156</td>\n",
       "      <td>00:10</td>\n",
       "    </tr>\n",
       "    <tr>\n",
       "      <td>37</td>\n",
       "      <td>0.006740</td>\n",
       "      <td>0.000876</td>\n",
       "      <td>0.029590</td>\n",
       "      <td>0.027198</td>\n",
       "      <td>00:10</td>\n",
       "    </tr>\n",
       "    <tr>\n",
       "      <td>38</td>\n",
       "      <td>0.006595</td>\n",
       "      <td>0.000468</td>\n",
       "      <td>0.021641</td>\n",
       "      <td>0.019231</td>\n",
       "      <td>00:10</td>\n",
       "    </tr>\n",
       "    <tr>\n",
       "      <td>39</td>\n",
       "      <td>0.006274</td>\n",
       "      <td>0.000370</td>\n",
       "      <td>0.019244</td>\n",
       "      <td>0.013900</td>\n",
       "      <td>00:10</td>\n",
       "    </tr>\n",
       "    <tr>\n",
       "      <td>40</td>\n",
       "      <td>0.006325</td>\n",
       "      <td>0.000934</td>\n",
       "      <td>0.030560</td>\n",
       "      <td>0.027642</td>\n",
       "      <td>00:10</td>\n",
       "    </tr>\n",
       "    <tr>\n",
       "      <td>41</td>\n",
       "      <td>0.006822</td>\n",
       "      <td>0.003272</td>\n",
       "      <td>0.057205</td>\n",
       "      <td>0.048126</td>\n",
       "      <td>00:10</td>\n",
       "    </tr>\n",
       "    <tr>\n",
       "      <td>42</td>\n",
       "      <td>0.007031</td>\n",
       "      <td>0.001038</td>\n",
       "      <td>0.032221</td>\n",
       "      <td>0.030259</td>\n",
       "      <td>00:10</td>\n",
       "    </tr>\n",
       "    <tr>\n",
       "      <td>43</td>\n",
       "      <td>0.006190</td>\n",
       "      <td>0.000306</td>\n",
       "      <td>0.017505</td>\n",
       "      <td>0.013988</td>\n",
       "      <td>00:10</td>\n",
       "    </tr>\n",
       "    <tr>\n",
       "      <td>44</td>\n",
       "      <td>0.005851</td>\n",
       "      <td>0.000812</td>\n",
       "      <td>0.028499</td>\n",
       "      <td>0.026165</td>\n",
       "      <td>00:10</td>\n",
       "    </tr>\n",
       "    <tr>\n",
       "      <td>45</td>\n",
       "      <td>0.006202</td>\n",
       "      <td>0.001355</td>\n",
       "      <td>0.036814</td>\n",
       "      <td>0.028999</td>\n",
       "      <td>00:10</td>\n",
       "    </tr>\n",
       "    <tr>\n",
       "      <td>46</td>\n",
       "      <td>0.005352</td>\n",
       "      <td>0.000376</td>\n",
       "      <td>0.019397</td>\n",
       "      <td>0.016063</td>\n",
       "      <td>00:10</td>\n",
       "    </tr>\n",
       "    <tr>\n",
       "      <td>47</td>\n",
       "      <td>0.004782</td>\n",
       "      <td>0.000434</td>\n",
       "      <td>0.020836</td>\n",
       "      <td>0.018541</td>\n",
       "      <td>00:10</td>\n",
       "    </tr>\n",
       "    <tr>\n",
       "      <td>48</td>\n",
       "      <td>0.004955</td>\n",
       "      <td>0.000449</td>\n",
       "      <td>0.021181</td>\n",
       "      <td>0.018248</td>\n",
       "      <td>00:10</td>\n",
       "    </tr>\n",
       "    <tr>\n",
       "      <td>49</td>\n",
       "      <td>0.004657</td>\n",
       "      <td>0.000427</td>\n",
       "      <td>0.020667</td>\n",
       "      <td>0.018625</td>\n",
       "      <td>00:10</td>\n",
       "    </tr>\n",
       "    <tr>\n",
       "      <td>50</td>\n",
       "      <td>0.005044</td>\n",
       "      <td>0.000256</td>\n",
       "      <td>0.015990</td>\n",
       "      <td>0.013987</td>\n",
       "      <td>00:10</td>\n",
       "    </tr>\n",
       "    <tr>\n",
       "      <td>51</td>\n",
       "      <td>0.004371</td>\n",
       "      <td>0.000179</td>\n",
       "      <td>0.013365</td>\n",
       "      <td>0.011322</td>\n",
       "      <td>00:10</td>\n",
       "    </tr>\n",
       "    <tr>\n",
       "      <td>52</td>\n",
       "      <td>0.004148</td>\n",
       "      <td>0.000143</td>\n",
       "      <td>0.011968</td>\n",
       "      <td>0.009671</td>\n",
       "      <td>00:10</td>\n",
       "    </tr>\n",
       "    <tr>\n",
       "      <td>53</td>\n",
       "      <td>0.004283</td>\n",
       "      <td>0.000204</td>\n",
       "      <td>0.014274</td>\n",
       "      <td>0.012703</td>\n",
       "      <td>00:10</td>\n",
       "    </tr>\n",
       "    <tr>\n",
       "      <td>54</td>\n",
       "      <td>0.004226</td>\n",
       "      <td>0.000082</td>\n",
       "      <td>0.009046</td>\n",
       "      <td>0.007490</td>\n",
       "      <td>00:10</td>\n",
       "    </tr>\n",
       "    <tr>\n",
       "      <td>55</td>\n",
       "      <td>0.004589</td>\n",
       "      <td>0.000031</td>\n",
       "      <td>0.005575</td>\n",
       "      <td>0.004379</td>\n",
       "      <td>00:10</td>\n",
       "    </tr>\n",
       "    <tr>\n",
       "      <td>56</td>\n",
       "      <td>0.004297</td>\n",
       "      <td>0.000062</td>\n",
       "      <td>0.007882</td>\n",
       "      <td>0.006790</td>\n",
       "      <td>00:10</td>\n",
       "    </tr>\n",
       "    <tr>\n",
       "      <td>57</td>\n",
       "      <td>0.004188</td>\n",
       "      <td>0.000066</td>\n",
       "      <td>0.008139</td>\n",
       "      <td>0.006411</td>\n",
       "      <td>00:10</td>\n",
       "    </tr>\n",
       "    <tr>\n",
       "      <td>58</td>\n",
       "      <td>0.004586</td>\n",
       "      <td>0.000195</td>\n",
       "      <td>0.013952</td>\n",
       "      <td>0.013096</td>\n",
       "      <td>00:10</td>\n",
       "    </tr>\n",
       "    <tr>\n",
       "      <td>59</td>\n",
       "      <td>0.004365</td>\n",
       "      <td>0.000131</td>\n",
       "      <td>0.011460</td>\n",
       "      <td>0.009720</td>\n",
       "      <td>00:10</td>\n",
       "    </tr>\n",
       "  </tbody>\n",
       "</table>"
      ],
      "text/plain": [
       "<IPython.core.display.HTML object>"
      ]
     },
     "metadata": {},
     "output_type": "display_data"
    }
   ],
   "source": [
    "learn.fine_tune(60)"
   ]
  },
  {
   "cell_type": "code",
   "execution_count": 28,
   "id": "428696ff-5139-4669-9015-a0c1c1cde4a3",
   "metadata": {},
   "outputs": [
    {
     "data": {
      "text/plain": [
       "Path('/home/jupyter/img_factory/models/img_regressor_00.fastai.pth')"
      ]
     },
     "execution_count": 28,
     "metadata": {},
     "output_type": "execute_result"
    }
   ],
   "source": [
    "path_model = slibtk.next_fname(Paths.MODELS / 'img_regressor.fastai')\n",
    "learn.save(path_model)"
   ]
  },
  {
   "cell_type": "code",
   "execution_count": 43,
   "id": "0a35df0f-7605-4cc7-87ce-d06e08b5827e",
   "metadata": {},
   "outputs": [],
   "source": [
    "path_img = test_img()\n",
    "print(learn.predict(path_img))\n",
    "path_img"
   ]
  },
  {
   "cell_type": "code",
   "execution_count": 45,
   "id": "5f488599-8363-4b54-a732-adcc41f295e1",
   "metadata": {},
   "outputs": [],
   "source": [
    "# dbs = dbs.new(item_tfms=Resize(128, ResizeMethod.Squish))"
   ]
  },
  {
   "cell_type": "markdown",
   "id": "5dd6a31e-f805-40c1-bef5-65dde79c7e39",
   "metadata": {},
   "source": [
    "# Classifciation Binary Version"
   ]
  },
  {
   "cell_type": "code",
   "execution_count": 25,
   "id": "033c0753-8e70-487c-a86e-c5d5c279767b",
   "metadata": {},
   "outputs": [],
   "source": [
    "df['target'] = np.where(df['value'] > 0.5, 'above', 'below')"
   ]
  },
  {
   "cell_type": "code",
   "execution_count": 26,
   "id": "4c7b82bf-20ee-4281-9d18-f9f9f96b98ea",
   "metadata": {},
   "outputs": [],
   "source": [
    "dls = DataBlock(\n",
    "    blocks=(ImageBlock, CategoryBlock),\n",
    "    get_x=ColReader('img_path'),\n",
    "    get_y=ColReader('target'),\n",
    "    splitter=RandomSplitter(),\n",
    "    item_tfms=Resize(224, ResizeMethod.Squish)\n",
    ").dataloaders(df)"
   ]
  },
  {
   "cell_type": "code",
   "execution_count": 27,
   "id": "a919f219-01d8-4973-a833-518e0d8a24df",
   "metadata": {},
   "outputs": [
    {
     "data": {
      "image/png": "[encoded data removed]",
      "text/plain": [
       "<Figure size 648x648 with 9 Axes>"
      ]
     },
     "metadata": {
      "needs_background": "light"
     },
     "output_type": "display_data"
    }
   ],
   "source": [
    "dls.show_batch()"
   ]
  },
  {
   "cell_type": "code",
   "execution_count": 28,
   "id": "632d17d8-bb92-4130-82bf-98474af4210c",
   "metadata": {},
   "outputs": [],
   "source": [
    "learn = cnn_learner(dls, resnet34, metrics=[error_rate, RocAucBinary()])"
   ]
  },
  {
   "cell_type": "code",
   "execution_count": 29,
   "id": "af1d8df0-3c61-450e-942e-1b084ebde429",
   "metadata": {},
   "outputs": [
    {
     "data": {
      "text/html": [
       "<table border=\"1\" class=\"dataframe\">\n",
       "  <thead>\n",
       "    <tr style=\"text-align: left;\">\n",
       "      <th>epoch</th>\n",
       "      <th>train_loss</th>\n",
       "      <th>valid_loss</th>\n",
       "      <th>error_rate</th>\n",
       "      <th>roc_auc_score</th>\n",
       "      <th>time</th>\n",
       "    </tr>\n",
       "  </thead>\n",
       "  <tbody>\n",
       "    <tr>\n",
       "      <td>0</td>\n",
       "      <td>0.080484</td>\n",
       "      <td>0.004095</td>\n",
       "      <td>0.001000</td>\n",
       "      <td>0.999998</td>\n",
       "      <td>00:18</td>\n",
       "    </tr>\n",
       "  </tbody>\n",
       "</table>"
      ],
      "text/plain": [
       "<IPython.core.display.HTML object>"
      ]
     },
     "metadata": {},
     "output_type": "display_data"
    },
    {
     "data": {
      "text/html": [
       "<table border=\"1\" class=\"dataframe\">\n",
       "  <thead>\n",
       "    <tr style=\"text-align: left;\">\n",
       "      <th>epoch</th>\n",
       "      <th>train_loss</th>\n",
       "      <th>valid_loss</th>\n",
       "      <th>error_rate</th>\n",
       "      <th>roc_auc_score</th>\n",
       "      <th>time</th>\n",
       "    </tr>\n",
       "  </thead>\n",
       "  <tbody>\n",
       "    <tr>\n",
       "      <td>0</td>\n",
       "      <td>0.023354</td>\n",
       "      <td>0.009555</td>\n",
       "      <td>0.001000</td>\n",
       "      <td>0.999978</td>\n",
       "      <td>00:23</td>\n",
       "    </tr>\n",
       "  </tbody>\n",
       "</table>"
      ],
      "text/plain": [
       "<IPython.core.display.HTML object>"
      ]
     },
     "metadata": {},
     "output_type": "display_data"
    }
   ],
   "source": [
    "learn.fine_tune(1)"
   ]
  },
  {
   "cell_type": "code",
   "execution_count": 30,
   "id": "f5a914e2-bb64-4ba4-b09f-801d4154004a",
   "metadata": {},
   "outputs": [
    {
     "data": {
      "text/html": [],
      "text/plain": [
       "<IPython.core.display.HTML object>"
      ]
     },
     "metadata": {},
     "output_type": "display_data"
    }
   ],
   "source": [
    "interp = ClassificationInterpretation.from_learner(learn)"
   ]
  },
  {
   "cell_type": "code",
   "execution_count": 31,
   "id": "b1e287fe-d233-4eb0-aa70-f01cb0467dee",
   "metadata": {},
   "outputs": [
    {
     "data": {
      "image/png": "[encoded data removed]",
      "text/plain": [
       "<Figure size 432x288 with 1 Axes>"
      ]
     },
     "metadata": {
      "needs_background": "light"
     },
     "output_type": "display_data"
    }
   ],
   "source": [
    "interp.plot_confusion_matrix()"
   ]
  },
  {
   "cell_type": "code",
   "execution_count": 32,
   "id": "d1796298-da34-4c40-9470-6b99716f1376",
   "metadata": {},
   "outputs": [
    {
     "data": {
      "image/png": "[encoded data removed]",
      "text/plain": [
       "<Figure size 864x648 with 12 Axes>"
      ]
     },
     "metadata": {
      "needs_background": "light"
     },
     "output_type": "display_data"
    }
   ],
   "source": [
    "interp.plot_top_losses(10)"
   ]
  },
  {
   "cell_type": "code",
   "execution_count": 33,
   "id": "9af9f387-9ecb-4460-bf7b-6c7da0c1343f",
   "metadata": {},
   "outputs": [
    {
     "data": {
      "text/plain": [
       "['above', 'below']"
      ]
     },
     "execution_count": 33,
     "metadata": {},
     "output_type": "execute_result"
    }
   ],
   "source": [
    "learn.dls.vocab"
   ]
  },
  {
   "cell_type": "code",
   "execution_count": 34,
   "id": "2c7858c6-e818-49a4-b0bf-c8152b63aa00",
   "metadata": {},
   "outputs": [
    {
     "data": {
      "text/html": [],
      "text/plain": [
       "<IPython.core.display.HTML object>"
      ]
     },
     "metadata": {},
     "output_type": "display_data"
    },
    {
     "name": "stdout",
     "output_type": "stream",
     "text": [
      "('below', tensor(1), tensor([1.3761e-06, 1.0000e+00]))\n"
     ]
    },
    {
     "data": {
      "text/plain": [
       "Path('/home/jupyter/img_factory/data/raw/0.2566326653629578.png')"
      ]
     },
     "execution_count": 34,
     "metadata": {},
     "output_type": "execute_result"
    },
    {
     "data": {
      "image/png": "[encoded data removed]",
      "text/plain": [
       "<Figure size 432x288 with 1 Axes>"
      ]
     },
     "metadata": {
      "needs_background": "light"
     },
     "output_type": "display_data"
    }
   ],
   "source": [
    "path_img = test_img()\n",
    "print(learn.predict(path_img))\n",
    "path_img"
   ]
  },
  {
   "cell_type": "markdown",
   "id": "3ed3b551-837f-4530-a10b-2c8a6b38f724",
   "metadata": {},
   "source": [
    "# Classification Multiclass"
   ]
  },
  {
   "cell_type": "code",
   "execution_count": 22,
   "id": "d8331059-2bcf-4b1a-97bd-bedd5068d61c",
   "metadata": {},
   "outputs": [],
   "source": [
    "df['class'] = 'cls_' + pd.qcut(df['value'], 5, labels=False, duplicates='drop').astype(str)"
   ]
  },
  {
   "cell_type": "code",
   "execution_count": 23,
   "id": "d82a6827-daa3-416b-aff1-d28863f387f5",
   "metadata": {},
   "outputs": [],
   "source": [
    "dls = DataBlock(\n",
    "    blocks=(ImageBlock, CategoryBlock),\n",
    "    get_x=ColReader('img_path'),\n",
    "    get_y=ColReader('class'),\n",
    "    splitter=RandomSplitter(),\n",
    "    item_tfms=Resize(224, ResizeMethod.Squish)\n",
    ").dataloaders(df)"
   ]
  },
  {
   "cell_type": "code",
   "execution_count": 24,
   "id": "d33e0247-3b3f-4c02-80f8-4d5329c06b51",
   "metadata": {},
   "outputs": [
    {
     "data": {
      "image/png": "[encoded data removed]",
      "text/plain": [
       "<Figure size 648x648 with 9 Axes>"
      ]
     },
     "metadata": {
      "needs_background": "light"
     },
     "output_type": "display_data"
    }
   ],
   "source": [
    "dls.show_batch()"
   ]
  },
  {
   "cell_type": "code",
   "execution_count": 25,
   "id": "0fe50dc1-2c97-48ad-ad6d-1c1ffdd264d7",
   "metadata": {},
   "outputs": [],
   "source": [
    "learn = cnn_learner(dls, resnet34, metrics=[accuracy, RocAuc()])"
   ]
  },
  {
   "cell_type": "code",
   "execution_count": 26,
   "id": "6dbe591d-666e-459e-846c-551918ff8968",
   "metadata": {},
   "outputs": [
    {
     "data": {
      "text/html": [
       "<table border=\"1\" class=\"dataframe\">\n",
       "  <thead>\n",
       "    <tr style=\"text-align: left;\">\n",
       "      <th>epoch</th>\n",
       "      <th>train_loss</th>\n",
       "      <th>valid_loss</th>\n",
       "      <th>accuracy</th>\n",
       "      <th>roc_auc_score</th>\n",
       "      <th>time</th>\n",
       "    </tr>\n",
       "  </thead>\n",
       "  <tbody>\n",
       "    <tr>\n",
       "      <td>0</td>\n",
       "      <td>0.288982</td>\n",
       "      <td>0.033539</td>\n",
       "      <td>0.994000</td>\n",
       "      <td>0.999838</td>\n",
       "      <td>00:18</td>\n",
       "    </tr>\n",
       "  </tbody>\n",
       "</table>"
      ],
      "text/plain": [
       "<IPython.core.display.HTML object>"
      ]
     },
     "metadata": {},
     "output_type": "display_data"
    },
    {
     "data": {
      "text/html": [
       "<table border=\"1\" class=\"dataframe\">\n",
       "  <thead>\n",
       "    <tr style=\"text-align: left;\">\n",
       "      <th>epoch</th>\n",
       "      <th>train_loss</th>\n",
       "      <th>valid_loss</th>\n",
       "      <th>accuracy</th>\n",
       "      <th>roc_auc_score</th>\n",
       "      <th>time</th>\n",
       "    </tr>\n",
       "  </thead>\n",
       "  <tbody>\n",
       "    <tr>\n",
       "      <td>0</td>\n",
       "      <td>0.093379</td>\n",
       "      <td>0.016630</td>\n",
       "      <td>0.994000</td>\n",
       "      <td>0.999959</td>\n",
       "      <td>00:23</td>\n",
       "    </tr>\n",
       "  </tbody>\n",
       "</table>"
      ],
      "text/plain": [
       "<IPython.core.display.HTML object>"
      ]
     },
     "metadata": {},
     "output_type": "display_data"
    }
   ],
   "source": [
    "learn.fine_tune(1)"
   ]
  },
  {
   "cell_type": "code",
   "execution_count": 27,
   "id": "cbefbf7a-5664-42ea-b16d-0f3299b538b7",
   "metadata": {},
   "outputs": [
    {
     "data": {
      "text/html": [],
      "text/plain": [
       "<IPython.core.display.HTML object>"
      ]
     },
     "metadata": {},
     "output_type": "display_data"
    }
   ],
   "source": [
    "interp = ClassificationInterpretation.from_learner(learn)"
   ]
  },
  {
   "cell_type": "code",
   "execution_count": 28,
   "id": "02fd1234-7915-422e-ba10-f9ef842507e1",
   "metadata": {},
   "outputs": [
    {
     "data": {
      "image/png": "[encoded data removed]",
      "text/plain": [
       "<Figure size 648x648 with 9 Axes>"
      ]
     },
     "metadata": {
      "needs_background": "light"
     },
     "output_type": "display_data"
    }
   ],
   "source": [
    "learn.dls.valid.show_batch()"
   ]
  },
  {
   "cell_type": "code",
   "execution_count": 30,
   "id": "5a69f575-612c-4e67-be01-87d7223b0e67",
   "metadata": {},
   "outputs": [
    {
     "data": {
      "image/png": "[encoded data removed]",
      "text/plain": [
       "<Figure size 432x288 with 1 Axes>"
      ]
     },
     "metadata": {
      "needs_background": "light"
     },
     "output_type": "display_data"
    }
   ],
   "source": [
    "interp.plot_confusion_matrix()"
   ]
  },
  {
   "cell_type": "code",
   "execution_count": 32,
   "id": "c8fa255e-12ba-44b5-9704-e0ba6c2944dc",
   "metadata": {},
   "outputs": [
    {
     "data": {
      "text/plain": [
       "[('cls3', 'cls2', 3), ('cls1', 'cls2', 2), ('cls1', 'cls0', 1)]"
      ]
     },
     "execution_count": 32,
     "metadata": {},
     "output_type": "execute_result"
    }
   ],
   "source": [
    "interp.most_confused()"
   ]
  },
  {
   "cell_type": "code",
   "execution_count": 31,
   "id": "d2742542-4ca1-4a76-a01f-db97d3cc98b8",
   "metadata": {},
   "outputs": [
    {
     "data": {
      "image/png": "[encoded data removed]",
      "text/plain": [
       "<Figure size 864x648 with 12 Axes>"
      ]
     },
     "metadata": {
      "needs_background": "light"
     },
     "output_type": "display_data"
    }
   ],
   "source": [
    "interp.plot_top_losses(10)"
   ]
  },
  {
   "cell_type": "code",
   "execution_count": 33,
   "id": "5df3b589-239f-414e-bfa7-86b2a685ae2a",
   "metadata": {},
   "outputs": [
    {
     "data": {
      "text/plain": [
       "['cls0', 'cls1', 'cls2', 'cls3', 'cls4']"
      ]
     },
     "execution_count": 33,
     "metadata": {},
     "output_type": "execute_result"
    }
   ],
   "source": [
    "learn.dls.vocab"
   ]
  },
  {
   "cell_type": "code",
   "execution_count": 34,
   "id": "3d497beb-d4e4-4a87-9f95-ef956580964a",
   "metadata": {},
   "outputs": [
    {
     "data": {
      "text/html": [],
      "text/plain": [
       "<IPython.core.display.HTML object>"
      ]
     },
     "metadata": {},
     "output_type": "display_data"
    },
    {
     "name": "stdout",
     "output_type": "stream",
     "text": [
      "('cls2', tensor(2), tensor([2.4179e-08, 1.0147e-07, 1.0000e+00, 1.0389e-06, 1.3618e-08]))\n"
     ]
    },
    {
     "data": {
      "text/plain": [
       "Path('/home/jupyter/img_factory/data/raw/0.4849493952161691.png')"
      ]
     },
     "execution_count": 34,
     "metadata": {},
     "output_type": "execute_result"
    },
    {
     "data": {
      "image/png": "[encoded data removed]",
      "text/plain": [
       "<Figure size 432x288 with 1 Axes>"
      ]
     },
     "metadata": {
      "needs_background": "light"
     },
     "output_type": "display_data"
    }
   ],
   "source": [
    "path_img = test_img()\n",
    "print(learn.predict(path_img))\n",
    "path_img"
   ]
  },
  {
   "cell_type": "code",
   "execution_count": null,
   "id": "e14a2af6-2063-45fa-9714-62f0e05edd9e",
   "metadata": {},
   "outputs": [],
   "source": []
  }
 ],
 "metadata": {
  "environment": {
   "name": "common-cu110.m68",
   "type": "gcloud",
   "uri": "gcr.io/deeplearning-platform-release/base-cu110:m68"
  },
  "kernelspec": {
   "display_name": "Python [conda env:fastai]",
   "language": "python",
   "name": "conda-env-fastai-py"
  },
  "language_info": {
   "codemirror_mode": {
    "name": "ipython",
    "version": 3
   },
   "file_extension": ".py",
   "mimetype": "text/x-python",
   "name": "python",
   "nbconvert_exporter": "python",
   "pygments_lexer": "ipython3",
   "version": "3.9.2"
  }
 },
 "nbformat": 4,
 "nbformat_minor": 5
}
